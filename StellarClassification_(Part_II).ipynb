{
  "nbformat": 4,
  "nbformat_minor": 0,
  "metadata": {
    "colab": {
      "name": "StellarClassification_(Part II).ipynb",
      "provenance": [],
      "collapsed_sections": [
        "oL6Pg149yjaG"
      ],
      "authorship_tag": "ABX9TyP9c2IvjXRhCXC4PoWhMp0D",
      "include_colab_link": true
    },
    "kernelspec": {
      "name": "python3",
      "display_name": "Python 3"
    },
    "language_info": {
      "name": "python"
    }
  },
  "cells": [
    {
      "cell_type": "markdown",
      "metadata": {
        "id": "view-in-github",
        "colab_type": "text"
      },
      "source": [
        "<a href=\"https://colab.research.google.com/github/ParkStrat/StellarClassification/blob/main/StellarClassification_(Part_II).ipynb\" target=\"_parent\"><img src=\"https://colab.research.google.com/assets/colab-badge.svg\" alt=\"Open In Colab\"/></a>"
      ]
    },
    {
      "cell_type": "markdown",
      "source": [
        "# Import Tools and Dataset"
      ],
      "metadata": {
        "id": "oL6Pg149yjaG"
      }
    },
    {
      "cell_type": "code",
      "execution_count": 14,
      "metadata": {
        "id": "m9_1DB7nygHP"
      },
      "outputs": [],
      "source": [
        "import pandas as pd\n",
        "import matplotlib.pyplot as plt\n",
        "import seaborn as sns"
      ]
    },
    {
      "cell_type": "code",
      "source": [
        "df = pd.read_csv('/content/star_classification.csv')\n",
        "df.head()"
      ],
      "metadata": {
        "colab": {
          "base_uri": "https://localhost:8080/",
          "height": 206
        },
        "id": "nyWrUr6tyrgU",
        "outputId": "67c67702-7e81-4012-a61e-7143c1b9af66"
      },
      "execution_count": 7,
      "outputs": [
        {
          "output_type": "execute_result",
          "data": {
            "text/html": [
              "\n",
              "  <div id=\"df-4d14fb8c-9656-4853-a99f-6c97e11390d0\">\n",
              "    <div class=\"colab-df-container\">\n",
              "      <div>\n",
              "<style scoped>\n",
              "    .dataframe tbody tr th:only-of-type {\n",
              "        vertical-align: middle;\n",
              "    }\n",
              "\n",
              "    .dataframe tbody tr th {\n",
              "        vertical-align: top;\n",
              "    }\n",
              "\n",
              "    .dataframe thead th {\n",
              "        text-align: right;\n",
              "    }\n",
              "</style>\n",
              "<table border=\"1\" class=\"dataframe\">\n",
              "  <thead>\n",
              "    <tr style=\"text-align: right;\">\n",
              "      <th></th>\n",
              "      <th>obj_ID</th>\n",
              "      <th>alpha</th>\n",
              "      <th>delta</th>\n",
              "      <th>u</th>\n",
              "      <th>g</th>\n",
              "      <th>r</th>\n",
              "      <th>i</th>\n",
              "      <th>z</th>\n",
              "      <th>run_ID</th>\n",
              "      <th>rerun_ID</th>\n",
              "      <th>cam_col</th>\n",
              "      <th>field_ID</th>\n",
              "      <th>spec_obj_ID</th>\n",
              "      <th>class</th>\n",
              "      <th>redshift</th>\n",
              "      <th>plate</th>\n",
              "      <th>MJD</th>\n",
              "      <th>fiber_ID</th>\n",
              "    </tr>\n",
              "  </thead>\n",
              "  <tbody>\n",
              "    <tr>\n",
              "      <th>0</th>\n",
              "      <td>1.237661e+18</td>\n",
              "      <td>135.689107</td>\n",
              "      <td>32.494632</td>\n",
              "      <td>23.87882</td>\n",
              "      <td>22.27530</td>\n",
              "      <td>20.39501</td>\n",
              "      <td>19.16573</td>\n",
              "      <td>18.79371</td>\n",
              "      <td>3606</td>\n",
              "      <td>301</td>\n",
              "      <td>2</td>\n",
              "      <td>79</td>\n",
              "      <td>6.543777e+18</td>\n",
              "      <td>GALAXY</td>\n",
              "      <td>0.634794</td>\n",
              "      <td>5812</td>\n",
              "      <td>56354</td>\n",
              "      <td>171</td>\n",
              "    </tr>\n",
              "    <tr>\n",
              "      <th>1</th>\n",
              "      <td>1.237665e+18</td>\n",
              "      <td>144.826101</td>\n",
              "      <td>31.274185</td>\n",
              "      <td>24.77759</td>\n",
              "      <td>22.83188</td>\n",
              "      <td>22.58444</td>\n",
              "      <td>21.16812</td>\n",
              "      <td>21.61427</td>\n",
              "      <td>4518</td>\n",
              "      <td>301</td>\n",
              "      <td>5</td>\n",
              "      <td>119</td>\n",
              "      <td>1.176014e+19</td>\n",
              "      <td>GALAXY</td>\n",
              "      <td>0.779136</td>\n",
              "      <td>10445</td>\n",
              "      <td>58158</td>\n",
              "      <td>427</td>\n",
              "    </tr>\n",
              "    <tr>\n",
              "      <th>2</th>\n",
              "      <td>1.237661e+18</td>\n",
              "      <td>142.188790</td>\n",
              "      <td>35.582444</td>\n",
              "      <td>25.26307</td>\n",
              "      <td>22.66389</td>\n",
              "      <td>20.60976</td>\n",
              "      <td>19.34857</td>\n",
              "      <td>18.94827</td>\n",
              "      <td>3606</td>\n",
              "      <td>301</td>\n",
              "      <td>2</td>\n",
              "      <td>120</td>\n",
              "      <td>5.152200e+18</td>\n",
              "      <td>GALAXY</td>\n",
              "      <td>0.644195</td>\n",
              "      <td>4576</td>\n",
              "      <td>55592</td>\n",
              "      <td>299</td>\n",
              "    </tr>\n",
              "    <tr>\n",
              "      <th>3</th>\n",
              "      <td>1.237663e+18</td>\n",
              "      <td>338.741038</td>\n",
              "      <td>-0.402828</td>\n",
              "      <td>22.13682</td>\n",
              "      <td>23.77656</td>\n",
              "      <td>21.61162</td>\n",
              "      <td>20.50454</td>\n",
              "      <td>19.25010</td>\n",
              "      <td>4192</td>\n",
              "      <td>301</td>\n",
              "      <td>3</td>\n",
              "      <td>214</td>\n",
              "      <td>1.030107e+19</td>\n",
              "      <td>GALAXY</td>\n",
              "      <td>0.932346</td>\n",
              "      <td>9149</td>\n",
              "      <td>58039</td>\n",
              "      <td>775</td>\n",
              "    </tr>\n",
              "    <tr>\n",
              "      <th>4</th>\n",
              "      <td>1.237680e+18</td>\n",
              "      <td>345.282593</td>\n",
              "      <td>21.183866</td>\n",
              "      <td>19.43718</td>\n",
              "      <td>17.58028</td>\n",
              "      <td>16.49747</td>\n",
              "      <td>15.97711</td>\n",
              "      <td>15.54461</td>\n",
              "      <td>8102</td>\n",
              "      <td>301</td>\n",
              "      <td>3</td>\n",
              "      <td>137</td>\n",
              "      <td>6.891865e+18</td>\n",
              "      <td>GALAXY</td>\n",
              "      <td>0.116123</td>\n",
              "      <td>6121</td>\n",
              "      <td>56187</td>\n",
              "      <td>842</td>\n",
              "    </tr>\n",
              "  </tbody>\n",
              "</table>\n",
              "</div>\n",
              "      <button class=\"colab-df-convert\" onclick=\"convertToInteractive('df-4d14fb8c-9656-4853-a99f-6c97e11390d0')\"\n",
              "              title=\"Convert this dataframe to an interactive table.\"\n",
              "              style=\"display:none;\">\n",
              "        \n",
              "  <svg xmlns=\"http://www.w3.org/2000/svg\" height=\"24px\"viewBox=\"0 0 24 24\"\n",
              "       width=\"24px\">\n",
              "    <path d=\"M0 0h24v24H0V0z\" fill=\"none\"/>\n",
              "    <path d=\"M18.56 5.44l.94 2.06.94-2.06 2.06-.94-2.06-.94-.94-2.06-.94 2.06-2.06.94zm-11 1L8.5 8.5l.94-2.06 2.06-.94-2.06-.94L8.5 2.5l-.94 2.06-2.06.94zm10 10l.94 2.06.94-2.06 2.06-.94-2.06-.94-.94-2.06-.94 2.06-2.06.94z\"/><path d=\"M17.41 7.96l-1.37-1.37c-.4-.4-.92-.59-1.43-.59-.52 0-1.04.2-1.43.59L10.3 9.45l-7.72 7.72c-.78.78-.78 2.05 0 2.83L4 21.41c.39.39.9.59 1.41.59.51 0 1.02-.2 1.41-.59l7.78-7.78 2.81-2.81c.8-.78.8-2.07 0-2.86zM5.41 20L4 18.59l7.72-7.72 1.47 1.35L5.41 20z\"/>\n",
              "  </svg>\n",
              "      </button>\n",
              "      \n",
              "  <style>\n",
              "    .colab-df-container {\n",
              "      display:flex;\n",
              "      flex-wrap:wrap;\n",
              "      gap: 12px;\n",
              "    }\n",
              "\n",
              "    .colab-df-convert {\n",
              "      background-color: #E8F0FE;\n",
              "      border: none;\n",
              "      border-radius: 50%;\n",
              "      cursor: pointer;\n",
              "      display: none;\n",
              "      fill: #1967D2;\n",
              "      height: 32px;\n",
              "      padding: 0 0 0 0;\n",
              "      width: 32px;\n",
              "    }\n",
              "\n",
              "    .colab-df-convert:hover {\n",
              "      background-color: #E2EBFA;\n",
              "      box-shadow: 0px 1px 2px rgba(60, 64, 67, 0.3), 0px 1px 3px 1px rgba(60, 64, 67, 0.15);\n",
              "      fill: #174EA6;\n",
              "    }\n",
              "\n",
              "    [theme=dark] .colab-df-convert {\n",
              "      background-color: #3B4455;\n",
              "      fill: #D2E3FC;\n",
              "    }\n",
              "\n",
              "    [theme=dark] .colab-df-convert:hover {\n",
              "      background-color: #434B5C;\n",
              "      box-shadow: 0px 1px 3px 1px rgba(0, 0, 0, 0.15);\n",
              "      filter: drop-shadow(0px 1px 2px rgba(0, 0, 0, 0.3));\n",
              "      fill: #FFFFFF;\n",
              "    }\n",
              "  </style>\n",
              "\n",
              "      <script>\n",
              "        const buttonEl =\n",
              "          document.querySelector('#df-4d14fb8c-9656-4853-a99f-6c97e11390d0 button.colab-df-convert');\n",
              "        buttonEl.style.display =\n",
              "          google.colab.kernel.accessAllowed ? 'block' : 'none';\n",
              "\n",
              "        async function convertToInteractive(key) {\n",
              "          const element = document.querySelector('#df-4d14fb8c-9656-4853-a99f-6c97e11390d0');\n",
              "          const dataTable =\n",
              "            await google.colab.kernel.invokeFunction('convertToInteractive',\n",
              "                                                     [key], {});\n",
              "          if (!dataTable) return;\n",
              "\n",
              "          const docLinkHtml = 'Like what you see? Visit the ' +\n",
              "            '<a target=\"_blank\" href=https://colab.research.google.com/notebooks/data_table.ipynb>data table notebook</a>'\n",
              "            + ' to learn more about interactive tables.';\n",
              "          element.innerHTML = '';\n",
              "          dataTable['output_type'] = 'display_data';\n",
              "          await google.colab.output.renderOutput(dataTable, element);\n",
              "          const docLink = document.createElement('div');\n",
              "          docLink.innerHTML = docLinkHtml;\n",
              "          element.appendChild(docLink);\n",
              "        }\n",
              "      </script>\n",
              "    </div>\n",
              "  </div>\n",
              "  "
            ],
            "text/plain": [
              "         obj_ID       alpha      delta  ...  plate    MJD  fiber_ID\n",
              "0  1.237661e+18  135.689107  32.494632  ...   5812  56354       171\n",
              "1  1.237665e+18  144.826101  31.274185  ...  10445  58158       427\n",
              "2  1.237661e+18  142.188790  35.582444  ...   4576  55592       299\n",
              "3  1.237663e+18  338.741038  -0.402828  ...   9149  58039       775\n",
              "4  1.237680e+18  345.282593  21.183866  ...   6121  56187       842\n",
              "\n",
              "[5 rows x 18 columns]"
            ]
          },
          "metadata": {},
          "execution_count": 7
        }
      ]
    },
    {
      "cell_type": "markdown",
      "source": [
        "# Cleaning Dataset"
      ],
      "metadata": {
        "id": "fHDgzb6UayXS"
      }
    },
    {
      "cell_type": "code",
      "source": [
        "df.info()"
      ],
      "metadata": {
        "colab": {
          "base_uri": "https://localhost:8080/"
        },
        "id": "CIFSQNRVyxCq",
        "outputId": "84505ea3-c35b-41f0-904b-4b5789759559"
      },
      "execution_count": 3,
      "outputs": [
        {
          "output_type": "stream",
          "name": "stdout",
          "text": [
            "<class 'pandas.core.frame.DataFrame'>\n",
            "RangeIndex: 37553 entries, 0 to 37552\n",
            "Data columns (total 18 columns):\n",
            " #   Column       Non-Null Count  Dtype  \n",
            "---  ------       --------------  -----  \n",
            " 0   obj_ID       37553 non-null  float64\n",
            " 1   alpha        37553 non-null  float64\n",
            " 2   delta        37553 non-null  float64\n",
            " 3   u            37553 non-null  float64\n",
            " 4   g            37553 non-null  float64\n",
            " 5   r            37553 non-null  float64\n",
            " 6   i            37553 non-null  float64\n",
            " 7   z            37553 non-null  float64\n",
            " 8   run_ID       37553 non-null  int64  \n",
            " 9   rerun_ID     37553 non-null  int64  \n",
            " 10  cam_col      37553 non-null  int64  \n",
            " 11  field_ID     37553 non-null  int64  \n",
            " 12  spec_obj_ID  37552 non-null  float64\n",
            " 13  class        37552 non-null  object \n",
            " 14  redshift     37552 non-null  float64\n",
            " 15  plate        37552 non-null  float64\n",
            " 16  MJD          37552 non-null  float64\n",
            " 17  fiber_ID     37552 non-null  float64\n",
            "dtypes: float64(13), int64(4), object(1)\n",
            "memory usage: 5.2+ MB\n"
          ]
        }
      ]
    },
    {
      "cell_type": "markdown",
      "source": [
        "Column descriptions from https://www.kaggle.com/fedesoriano/stellar-classification-dataset-sdss17\n",
        "\n",
        "obj_ID = Object Identifier, the unique value that identifies the object in the image catalog used by the CAS\n",
        "\n",
        "alpha = Right Ascension angle (at J2000 epoch)\n",
        "\n",
        "delta = Declination angle (at J2000 epoch)\n",
        "\n",
        "u = Ultraviolet filter in the photometric system\n",
        "\n",
        "g = Green filter in the photometric system\n",
        "\n",
        "r = Red filter in the photometric system\n",
        "\n",
        "i = Near Infrared filter in the photometric system\n",
        "\n",
        "z = Infrared filter in the photometric system\n",
        "\n",
        "run_ID = Run Number used to identify the specific scan\n",
        "\n",
        "rereun_ID = Rerun Number to specify how the image was processed\n",
        "\n",
        "cam_col = Camera column to identify the scanline within the run\n",
        "\n",
        "field_ID = Field number to identify each field\n",
        "\n",
        "spec_obj_ID = Unique ID used for optical spectroscopic objects (this means that 2 different observations with the same spec_obj_ID must share the output class)\n",
        "\n",
        "class = object class (galaxy, star or quasar object)\n",
        "\n",
        "redshift = redshift value based on the increase in wavelength\n",
        "\n",
        "plate = plate ID, identifies each plate in SDSS\n",
        "\n",
        "MJD = Modified Julian Date, used to indicate when a given piece of SDSS data was taken\n",
        "\n",
        "fiber_ID = fiber ID that identifies the fiber that pointed the light at the focal plane in each observation"
      ],
      "metadata": {
        "id": "LUbEk9GIomQ1"
      }
    },
    {
      "cell_type": "markdown",
      "source": [
        "Checking for duplicates"
      ],
      "metadata": {
        "id": "din6re1Izc0E"
      }
    },
    {
      "cell_type": "code",
      "source": [
        "df.duplicated().sum()"
      ],
      "metadata": {
        "colab": {
          "base_uri": "https://localhost:8080/"
        },
        "id": "eJNZs9gnzWhm",
        "outputId": "38aea917-49a3-4f65-f385-39067384d8d0"
      },
      "execution_count": 4,
      "outputs": [
        {
          "output_type": "execute_result",
          "data": {
            "text/plain": [
              "0"
            ]
          },
          "metadata": {},
          "execution_count": 4
        }
      ]
    },
    {
      "cell_type": "markdown",
      "source": [
        "There are no duplicates and there does not seem to be any missing data"
      ],
      "metadata": {
        "id": "DttzgAJalaqy"
      }
    },
    {
      "cell_type": "markdown",
      "source": [
        "Checking target class balance"
      ],
      "metadata": {
        "id": "8-axhFArzit8"
      }
    },
    {
      "cell_type": "code",
      "source": [
        "df['class'].value_counts(normalize = True)"
      ],
      "metadata": {
        "colab": {
          "base_uri": "https://localhost:8080/"
        },
        "id": "_5Zdv0qfzgRh",
        "outputId": "e840f3d8-53f4-43ff-c1a2-c53f3859473d"
      },
      "execution_count": 5,
      "outputs": [
        {
          "output_type": "execute_result",
          "data": {
            "text/plain": [
              "GALAXY    0.580981\n",
              "STAR      0.222891\n",
              "QSO       0.196128\n",
              "Name: class, dtype: float64"
            ]
          },
          "metadata": {},
          "execution_count": 5
        }
      ]
    },
    {
      "cell_type": "markdown",
      "source": [
        "Classes are not very evenly balanced"
      ],
      "metadata": {
        "id": "w2D0wXw1zyWY"
      }
    },
    {
      "cell_type": "markdown",
      "source": [
        "Removing unecessary rows due to these rows each having unique entries (such as obj_id - a unique identifier that catelogs the objet) or irrelivant to classification of the target column (such as run_ID - number used to identify the scan used to capture the data about the celestial object) "
      ],
      "metadata": {
        "id": "mib0aL8CVmf-"
      }
    },
    {
      "cell_type": "code",
      "source": [
        "df.drop(columns = ['obj_ID', 'alpha', 'delta', 'run_ID', 'rerun_ID', 'cam_col', 'field_ID', 'spec_obj_ID', 'plate', 'MJD', 'fiber_ID'], inplace = True)\n",
        "df.info()"
      ],
      "metadata": {
        "colab": {
          "base_uri": "https://localhost:8080/"
        },
        "id": "mMUaYk7KVpl3",
        "outputId": "b9702004-8523-495c-a663-52aa22a8bcd0"
      },
      "execution_count": 8,
      "outputs": [
        {
          "output_type": "stream",
          "name": "stdout",
          "text": [
            "<class 'pandas.core.frame.DataFrame'>\n",
            "RangeIndex: 100000 entries, 0 to 99999\n",
            "Data columns (total 7 columns):\n",
            " #   Column    Non-Null Count   Dtype  \n",
            "---  ------    --------------   -----  \n",
            " 0   u         100000 non-null  float64\n",
            " 1   g         100000 non-null  float64\n",
            " 2   r         100000 non-null  float64\n",
            " 3   i         100000 non-null  float64\n",
            " 4   z         100000 non-null  float64\n",
            " 5   class     100000 non-null  object \n",
            " 6   redshift  100000 non-null  float64\n",
            "dtypes: float64(6), object(1)\n",
            "memory usage: 5.3+ MB\n"
          ]
        }
      ]
    },
    {
      "cell_type": "code",
      "source": [
        "df.describe(include = 'all')"
      ],
      "metadata": {
        "colab": {
          "base_uri": "https://localhost:8080/",
          "height": 395
        },
        "id": "_acA3cD3XDQa",
        "outputId": "bd6146bf-8718-49fd-cb66-865a263b7d38"
      },
      "execution_count": 9,
      "outputs": [
        {
          "output_type": "execute_result",
          "data": {
            "text/html": [
              "\n",
              "  <div id=\"df-4a7f7154-cd22-48f8-9de2-a6c8eaeb0ffb\">\n",
              "    <div class=\"colab-df-container\">\n",
              "      <div>\n",
              "<style scoped>\n",
              "    .dataframe tbody tr th:only-of-type {\n",
              "        vertical-align: middle;\n",
              "    }\n",
              "\n",
              "    .dataframe tbody tr th {\n",
              "        vertical-align: top;\n",
              "    }\n",
              "\n",
              "    .dataframe thead th {\n",
              "        text-align: right;\n",
              "    }\n",
              "</style>\n",
              "<table border=\"1\" class=\"dataframe\">\n",
              "  <thead>\n",
              "    <tr style=\"text-align: right;\">\n",
              "      <th></th>\n",
              "      <th>u</th>\n",
              "      <th>g</th>\n",
              "      <th>r</th>\n",
              "      <th>i</th>\n",
              "      <th>z</th>\n",
              "      <th>class</th>\n",
              "      <th>redshift</th>\n",
              "    </tr>\n",
              "  </thead>\n",
              "  <tbody>\n",
              "    <tr>\n",
              "      <th>count</th>\n",
              "      <td>100000.000000</td>\n",
              "      <td>100000.000000</td>\n",
              "      <td>100000.000000</td>\n",
              "      <td>100000.000000</td>\n",
              "      <td>100000.000000</td>\n",
              "      <td>100000</td>\n",
              "      <td>100000.000000</td>\n",
              "    </tr>\n",
              "    <tr>\n",
              "      <th>unique</th>\n",
              "      <td>NaN</td>\n",
              "      <td>NaN</td>\n",
              "      <td>NaN</td>\n",
              "      <td>NaN</td>\n",
              "      <td>NaN</td>\n",
              "      <td>3</td>\n",
              "      <td>NaN</td>\n",
              "    </tr>\n",
              "    <tr>\n",
              "      <th>top</th>\n",
              "      <td>NaN</td>\n",
              "      <td>NaN</td>\n",
              "      <td>NaN</td>\n",
              "      <td>NaN</td>\n",
              "      <td>NaN</td>\n",
              "      <td>GALAXY</td>\n",
              "      <td>NaN</td>\n",
              "    </tr>\n",
              "    <tr>\n",
              "      <th>freq</th>\n",
              "      <td>NaN</td>\n",
              "      <td>NaN</td>\n",
              "      <td>NaN</td>\n",
              "      <td>NaN</td>\n",
              "      <td>NaN</td>\n",
              "      <td>59445</td>\n",
              "      <td>NaN</td>\n",
              "    </tr>\n",
              "    <tr>\n",
              "      <th>mean</th>\n",
              "      <td>21.980468</td>\n",
              "      <td>20.531387</td>\n",
              "      <td>19.645762</td>\n",
              "      <td>19.084854</td>\n",
              "      <td>18.668810</td>\n",
              "      <td>NaN</td>\n",
              "      <td>0.576661</td>\n",
              "    </tr>\n",
              "    <tr>\n",
              "      <th>std</th>\n",
              "      <td>31.769291</td>\n",
              "      <td>31.750292</td>\n",
              "      <td>1.854760</td>\n",
              "      <td>1.757895</td>\n",
              "      <td>31.728152</td>\n",
              "      <td>NaN</td>\n",
              "      <td>0.730707</td>\n",
              "    </tr>\n",
              "    <tr>\n",
              "      <th>min</th>\n",
              "      <td>-9999.000000</td>\n",
              "      <td>-9999.000000</td>\n",
              "      <td>9.822070</td>\n",
              "      <td>9.469903</td>\n",
              "      <td>-9999.000000</td>\n",
              "      <td>NaN</td>\n",
              "      <td>-0.009971</td>\n",
              "    </tr>\n",
              "    <tr>\n",
              "      <th>25%</th>\n",
              "      <td>20.352353</td>\n",
              "      <td>18.965230</td>\n",
              "      <td>18.135828</td>\n",
              "      <td>17.732285</td>\n",
              "      <td>17.460677</td>\n",
              "      <td>NaN</td>\n",
              "      <td>0.054517</td>\n",
              "    </tr>\n",
              "    <tr>\n",
              "      <th>50%</th>\n",
              "      <td>22.179135</td>\n",
              "      <td>21.099835</td>\n",
              "      <td>20.125290</td>\n",
              "      <td>19.405145</td>\n",
              "      <td>19.004595</td>\n",
              "      <td>NaN</td>\n",
              "      <td>0.424173</td>\n",
              "    </tr>\n",
              "    <tr>\n",
              "      <th>75%</th>\n",
              "      <td>23.687440</td>\n",
              "      <td>22.123767</td>\n",
              "      <td>21.044785</td>\n",
              "      <td>20.396495</td>\n",
              "      <td>19.921120</td>\n",
              "      <td>NaN</td>\n",
              "      <td>0.704154</td>\n",
              "    </tr>\n",
              "    <tr>\n",
              "      <th>max</th>\n",
              "      <td>32.781390</td>\n",
              "      <td>31.602240</td>\n",
              "      <td>29.571860</td>\n",
              "      <td>32.141470</td>\n",
              "      <td>29.383740</td>\n",
              "      <td>NaN</td>\n",
              "      <td>7.011245</td>\n",
              "    </tr>\n",
              "  </tbody>\n",
              "</table>\n",
              "</div>\n",
              "      <button class=\"colab-df-convert\" onclick=\"convertToInteractive('df-4a7f7154-cd22-48f8-9de2-a6c8eaeb0ffb')\"\n",
              "              title=\"Convert this dataframe to an interactive table.\"\n",
              "              style=\"display:none;\">\n",
              "        \n",
              "  <svg xmlns=\"http://www.w3.org/2000/svg\" height=\"24px\"viewBox=\"0 0 24 24\"\n",
              "       width=\"24px\">\n",
              "    <path d=\"M0 0h24v24H0V0z\" fill=\"none\"/>\n",
              "    <path d=\"M18.56 5.44l.94 2.06.94-2.06 2.06-.94-2.06-.94-.94-2.06-.94 2.06-2.06.94zm-11 1L8.5 8.5l.94-2.06 2.06-.94-2.06-.94L8.5 2.5l-.94 2.06-2.06.94zm10 10l.94 2.06.94-2.06 2.06-.94-2.06-.94-.94-2.06-.94 2.06-2.06.94z\"/><path d=\"M17.41 7.96l-1.37-1.37c-.4-.4-.92-.59-1.43-.59-.52 0-1.04.2-1.43.59L10.3 9.45l-7.72 7.72c-.78.78-.78 2.05 0 2.83L4 21.41c.39.39.9.59 1.41.59.51 0 1.02-.2 1.41-.59l7.78-7.78 2.81-2.81c.8-.78.8-2.07 0-2.86zM5.41 20L4 18.59l7.72-7.72 1.47 1.35L5.41 20z\"/>\n",
              "  </svg>\n",
              "      </button>\n",
              "      \n",
              "  <style>\n",
              "    .colab-df-container {\n",
              "      display:flex;\n",
              "      flex-wrap:wrap;\n",
              "      gap: 12px;\n",
              "    }\n",
              "\n",
              "    .colab-df-convert {\n",
              "      background-color: #E8F0FE;\n",
              "      border: none;\n",
              "      border-radius: 50%;\n",
              "      cursor: pointer;\n",
              "      display: none;\n",
              "      fill: #1967D2;\n",
              "      height: 32px;\n",
              "      padding: 0 0 0 0;\n",
              "      width: 32px;\n",
              "    }\n",
              "\n",
              "    .colab-df-convert:hover {\n",
              "      background-color: #E2EBFA;\n",
              "      box-shadow: 0px 1px 2px rgba(60, 64, 67, 0.3), 0px 1px 3px 1px rgba(60, 64, 67, 0.15);\n",
              "      fill: #174EA6;\n",
              "    }\n",
              "\n",
              "    [theme=dark] .colab-df-convert {\n",
              "      background-color: #3B4455;\n",
              "      fill: #D2E3FC;\n",
              "    }\n",
              "\n",
              "    [theme=dark] .colab-df-convert:hover {\n",
              "      background-color: #434B5C;\n",
              "      box-shadow: 0px 1px 3px 1px rgba(0, 0, 0, 0.15);\n",
              "      filter: drop-shadow(0px 1px 2px rgba(0, 0, 0, 0.3));\n",
              "      fill: #FFFFFF;\n",
              "    }\n",
              "  </style>\n",
              "\n",
              "      <script>\n",
              "        const buttonEl =\n",
              "          document.querySelector('#df-4a7f7154-cd22-48f8-9de2-a6c8eaeb0ffb button.colab-df-convert');\n",
              "        buttonEl.style.display =\n",
              "          google.colab.kernel.accessAllowed ? 'block' : 'none';\n",
              "\n",
              "        async function convertToInteractive(key) {\n",
              "          const element = document.querySelector('#df-4a7f7154-cd22-48f8-9de2-a6c8eaeb0ffb');\n",
              "          const dataTable =\n",
              "            await google.colab.kernel.invokeFunction('convertToInteractive',\n",
              "                                                     [key], {});\n",
              "          if (!dataTable) return;\n",
              "\n",
              "          const docLinkHtml = 'Like what you see? Visit the ' +\n",
              "            '<a target=\"_blank\" href=https://colab.research.google.com/notebooks/data_table.ipynb>data table notebook</a>'\n",
              "            + ' to learn more about interactive tables.';\n",
              "          element.innerHTML = '';\n",
              "          dataTable['output_type'] = 'display_data';\n",
              "          await google.colab.output.renderOutput(dataTable, element);\n",
              "          const docLink = document.createElement('div');\n",
              "          docLink.innerHTML = docLinkHtml;\n",
              "          element.appendChild(docLink);\n",
              "        }\n",
              "      </script>\n",
              "    </div>\n",
              "  </div>\n",
              "  "
            ],
            "text/plain": [
              "                    u              g  ...   class       redshift\n",
              "count   100000.000000  100000.000000  ...  100000  100000.000000\n",
              "unique            NaN            NaN  ...       3            NaN\n",
              "top               NaN            NaN  ...  GALAXY            NaN\n",
              "freq              NaN            NaN  ...   59445            NaN\n",
              "mean        21.980468      20.531387  ...     NaN       0.576661\n",
              "std         31.769291      31.750292  ...     NaN       0.730707\n",
              "min      -9999.000000   -9999.000000  ...     NaN      -0.009971\n",
              "25%         20.352353      18.965230  ...     NaN       0.054517\n",
              "50%         22.179135      21.099835  ...     NaN       0.424173\n",
              "75%         23.687440      22.123767  ...     NaN       0.704154\n",
              "max         32.781390      31.602240  ...     NaN       7.011245\n",
              "\n",
              "[11 rows x 7 columns]"
            ]
          },
          "metadata": {},
          "execution_count": 9
        }
      ]
    },
    {
      "cell_type": "markdown",
      "source": [
        "The min value -9999 seems like a major outlier based on the other values for each feature\n",
        "\n",
        "---\n",
        "Identifiying if the -9999 observation is a single observation  "
      ],
      "metadata": {
        "id": "RoD-zu0ZXyOR"
      }
    },
    {
      "cell_type": "code",
      "source": [
        "df.loc[df['u'] == -9999]"
      ],
      "metadata": {
        "colab": {
          "base_uri": "https://localhost:8080/",
          "height": 81
        },
        "id": "Ee4V68f5XSs6",
        "outputId": "6c8196fc-1c10-4b69-d328-499daf34b52c"
      },
      "execution_count": 10,
      "outputs": [
        {
          "output_type": "execute_result",
          "data": {
            "text/html": [
              "\n",
              "  <div id=\"df-d8a6bee9-06cc-4659-a2f0-2b091fb49e0e\">\n",
              "    <div class=\"colab-df-container\">\n",
              "      <div>\n",
              "<style scoped>\n",
              "    .dataframe tbody tr th:only-of-type {\n",
              "        vertical-align: middle;\n",
              "    }\n",
              "\n",
              "    .dataframe tbody tr th {\n",
              "        vertical-align: top;\n",
              "    }\n",
              "\n",
              "    .dataframe thead th {\n",
              "        text-align: right;\n",
              "    }\n",
              "</style>\n",
              "<table border=\"1\" class=\"dataframe\">\n",
              "  <thead>\n",
              "    <tr style=\"text-align: right;\">\n",
              "      <th></th>\n",
              "      <th>u</th>\n",
              "      <th>g</th>\n",
              "      <th>r</th>\n",
              "      <th>i</th>\n",
              "      <th>z</th>\n",
              "      <th>class</th>\n",
              "      <th>redshift</th>\n",
              "    </tr>\n",
              "  </thead>\n",
              "  <tbody>\n",
              "    <tr>\n",
              "      <th>79543</th>\n",
              "      <td>-9999.0</td>\n",
              "      <td>-9999.0</td>\n",
              "      <td>18.1656</td>\n",
              "      <td>18.01675</td>\n",
              "      <td>-9999.0</td>\n",
              "      <td>STAR</td>\n",
              "      <td>0.000089</td>\n",
              "    </tr>\n",
              "  </tbody>\n",
              "</table>\n",
              "</div>\n",
              "      <button class=\"colab-df-convert\" onclick=\"convertToInteractive('df-d8a6bee9-06cc-4659-a2f0-2b091fb49e0e')\"\n",
              "              title=\"Convert this dataframe to an interactive table.\"\n",
              "              style=\"display:none;\">\n",
              "        \n",
              "  <svg xmlns=\"http://www.w3.org/2000/svg\" height=\"24px\"viewBox=\"0 0 24 24\"\n",
              "       width=\"24px\">\n",
              "    <path d=\"M0 0h24v24H0V0z\" fill=\"none\"/>\n",
              "    <path d=\"M18.56 5.44l.94 2.06.94-2.06 2.06-.94-2.06-.94-.94-2.06-.94 2.06-2.06.94zm-11 1L8.5 8.5l.94-2.06 2.06-.94-2.06-.94L8.5 2.5l-.94 2.06-2.06.94zm10 10l.94 2.06.94-2.06 2.06-.94-2.06-.94-.94-2.06-.94 2.06-2.06.94z\"/><path d=\"M17.41 7.96l-1.37-1.37c-.4-.4-.92-.59-1.43-.59-.52 0-1.04.2-1.43.59L10.3 9.45l-7.72 7.72c-.78.78-.78 2.05 0 2.83L4 21.41c.39.39.9.59 1.41.59.51 0 1.02-.2 1.41-.59l7.78-7.78 2.81-2.81c.8-.78.8-2.07 0-2.86zM5.41 20L4 18.59l7.72-7.72 1.47 1.35L5.41 20z\"/>\n",
              "  </svg>\n",
              "      </button>\n",
              "      \n",
              "  <style>\n",
              "    .colab-df-container {\n",
              "      display:flex;\n",
              "      flex-wrap:wrap;\n",
              "      gap: 12px;\n",
              "    }\n",
              "\n",
              "    .colab-df-convert {\n",
              "      background-color: #E8F0FE;\n",
              "      border: none;\n",
              "      border-radius: 50%;\n",
              "      cursor: pointer;\n",
              "      display: none;\n",
              "      fill: #1967D2;\n",
              "      height: 32px;\n",
              "      padding: 0 0 0 0;\n",
              "      width: 32px;\n",
              "    }\n",
              "\n",
              "    .colab-df-convert:hover {\n",
              "      background-color: #E2EBFA;\n",
              "      box-shadow: 0px 1px 2px rgba(60, 64, 67, 0.3), 0px 1px 3px 1px rgba(60, 64, 67, 0.15);\n",
              "      fill: #174EA6;\n",
              "    }\n",
              "\n",
              "    [theme=dark] .colab-df-convert {\n",
              "      background-color: #3B4455;\n",
              "      fill: #D2E3FC;\n",
              "    }\n",
              "\n",
              "    [theme=dark] .colab-df-convert:hover {\n",
              "      background-color: #434B5C;\n",
              "      box-shadow: 0px 1px 3px 1px rgba(0, 0, 0, 0.15);\n",
              "      filter: drop-shadow(0px 1px 2px rgba(0, 0, 0, 0.3));\n",
              "      fill: #FFFFFF;\n",
              "    }\n",
              "  </style>\n",
              "\n",
              "      <script>\n",
              "        const buttonEl =\n",
              "          document.querySelector('#df-d8a6bee9-06cc-4659-a2f0-2b091fb49e0e button.colab-df-convert');\n",
              "        buttonEl.style.display =\n",
              "          google.colab.kernel.accessAllowed ? 'block' : 'none';\n",
              "\n",
              "        async function convertToInteractive(key) {\n",
              "          const element = document.querySelector('#df-d8a6bee9-06cc-4659-a2f0-2b091fb49e0e');\n",
              "          const dataTable =\n",
              "            await google.colab.kernel.invokeFunction('convertToInteractive',\n",
              "                                                     [key], {});\n",
              "          if (!dataTable) return;\n",
              "\n",
              "          const docLinkHtml = 'Like what you see? Visit the ' +\n",
              "            '<a target=\"_blank\" href=https://colab.research.google.com/notebooks/data_table.ipynb>data table notebook</a>'\n",
              "            + ' to learn more about interactive tables.';\n",
              "          element.innerHTML = '';\n",
              "          dataTable['output_type'] = 'display_data';\n",
              "          await google.colab.output.renderOutput(dataTable, element);\n",
              "          const docLink = document.createElement('div');\n",
              "          docLink.innerHTML = docLinkHtml;\n",
              "          element.appendChild(docLink);\n",
              "        }\n",
              "      </script>\n",
              "    </div>\n",
              "  </div>\n",
              "  "
            ],
            "text/plain": [
              "            u       g        r         i       z class  redshift\n",
              "79543 -9999.0 -9999.0  18.1656  18.01675 -9999.0  STAR  0.000089"
            ]
          },
          "metadata": {},
          "execution_count": 10
        }
      ]
    },
    {
      "cell_type": "markdown",
      "source": [
        "Revmoing the outlier observation and checking to ensure it is removed"
      ],
      "metadata": {
        "id": "_uu4UbvHYOj3"
      }
    },
    {
      "cell_type": "code",
      "source": [
        "df.drop(index = 79543, inplace = True)"
      ],
      "metadata": {
        "id": "hJM-GPPLXfTb"
      },
      "execution_count": 12,
      "outputs": []
    },
    {
      "cell_type": "code",
      "source": [
        "df.describe(include = 'all')"
      ],
      "metadata": {
        "colab": {
          "base_uri": "https://localhost:8080/",
          "height": 395
        },
        "id": "8ZOgUe58XuBJ",
        "outputId": "38bd239f-564f-43b1-d1d4-22e697ae5ec7"
      },
      "execution_count": 13,
      "outputs": [
        {
          "output_type": "execute_result",
          "data": {
            "text/html": [
              "\n",
              "  <div id=\"df-83135d9e-f020-4f9c-9846-db3d91e06075\">\n",
              "    <div class=\"colab-df-container\">\n",
              "      <div>\n",
              "<style scoped>\n",
              "    .dataframe tbody tr th:only-of-type {\n",
              "        vertical-align: middle;\n",
              "    }\n",
              "\n",
              "    .dataframe tbody tr th {\n",
              "        vertical-align: top;\n",
              "    }\n",
              "\n",
              "    .dataframe thead th {\n",
              "        text-align: right;\n",
              "    }\n",
              "</style>\n",
              "<table border=\"1\" class=\"dataframe\">\n",
              "  <thead>\n",
              "    <tr style=\"text-align: right;\">\n",
              "      <th></th>\n",
              "      <th>u</th>\n",
              "      <th>g</th>\n",
              "      <th>r</th>\n",
              "      <th>i</th>\n",
              "      <th>z</th>\n",
              "      <th>class</th>\n",
              "      <th>redshift</th>\n",
              "    </tr>\n",
              "  </thead>\n",
              "  <tbody>\n",
              "    <tr>\n",
              "      <th>count</th>\n",
              "      <td>99999.000000</td>\n",
              "      <td>99999.000000</td>\n",
              "      <td>99999.000000</td>\n",
              "      <td>99999.000000</td>\n",
              "      <td>99999.000000</td>\n",
              "      <td>99999</td>\n",
              "      <td>99999.000000</td>\n",
              "    </tr>\n",
              "    <tr>\n",
              "      <th>unique</th>\n",
              "      <td>NaN</td>\n",
              "      <td>NaN</td>\n",
              "      <td>NaN</td>\n",
              "      <td>NaN</td>\n",
              "      <td>NaN</td>\n",
              "      <td>3</td>\n",
              "      <td>NaN</td>\n",
              "    </tr>\n",
              "    <tr>\n",
              "      <th>top</th>\n",
              "      <td>NaN</td>\n",
              "      <td>NaN</td>\n",
              "      <td>NaN</td>\n",
              "      <td>NaN</td>\n",
              "      <td>NaN</td>\n",
              "      <td>GALAXY</td>\n",
              "      <td>NaN</td>\n",
              "    </tr>\n",
              "    <tr>\n",
              "      <th>freq</th>\n",
              "      <td>NaN</td>\n",
              "      <td>NaN</td>\n",
              "      <td>NaN</td>\n",
              "      <td>NaN</td>\n",
              "      <td>NaN</td>\n",
              "      <td>59445</td>\n",
              "      <td>NaN</td>\n",
              "    </tr>\n",
              "    <tr>\n",
              "      <th>mean</th>\n",
              "      <td>22.080679</td>\n",
              "      <td>20.631583</td>\n",
              "      <td>19.645777</td>\n",
              "      <td>19.084865</td>\n",
              "      <td>18.768988</td>\n",
              "      <td>NaN</td>\n",
              "      <td>0.576667</td>\n",
              "    </tr>\n",
              "    <tr>\n",
              "      <th>std</th>\n",
              "      <td>2.251068</td>\n",
              "      <td>2.037384</td>\n",
              "      <td>1.854763</td>\n",
              "      <td>1.757900</td>\n",
              "      <td>1.765982</td>\n",
              "      <td>NaN</td>\n",
              "      <td>0.730709</td>\n",
              "    </tr>\n",
              "    <tr>\n",
              "      <th>min</th>\n",
              "      <td>10.996230</td>\n",
              "      <td>10.498200</td>\n",
              "      <td>9.822070</td>\n",
              "      <td>9.469903</td>\n",
              "      <td>9.612333</td>\n",
              "      <td>NaN</td>\n",
              "      <td>-0.009971</td>\n",
              "    </tr>\n",
              "    <tr>\n",
              "      <th>25%</th>\n",
              "      <td>20.352410</td>\n",
              "      <td>18.965240</td>\n",
              "      <td>18.135795</td>\n",
              "      <td>17.732280</td>\n",
              "      <td>17.460830</td>\n",
              "      <td>NaN</td>\n",
              "      <td>0.054522</td>\n",
              "    </tr>\n",
              "    <tr>\n",
              "      <th>50%</th>\n",
              "      <td>22.179140</td>\n",
              "      <td>21.099930</td>\n",
              "      <td>20.125310</td>\n",
              "      <td>19.405150</td>\n",
              "      <td>19.004600</td>\n",
              "      <td>NaN</td>\n",
              "      <td>0.424176</td>\n",
              "    </tr>\n",
              "    <tr>\n",
              "      <th>75%</th>\n",
              "      <td>23.687480</td>\n",
              "      <td>22.123775</td>\n",
              "      <td>21.044790</td>\n",
              "      <td>20.396510</td>\n",
              "      <td>19.921120</td>\n",
              "      <td>NaN</td>\n",
              "      <td>0.704172</td>\n",
              "    </tr>\n",
              "    <tr>\n",
              "      <th>max</th>\n",
              "      <td>32.781390</td>\n",
              "      <td>31.602240</td>\n",
              "      <td>29.571860</td>\n",
              "      <td>32.141470</td>\n",
              "      <td>29.383740</td>\n",
              "      <td>NaN</td>\n",
              "      <td>7.011245</td>\n",
              "    </tr>\n",
              "  </tbody>\n",
              "</table>\n",
              "</div>\n",
              "      <button class=\"colab-df-convert\" onclick=\"convertToInteractive('df-83135d9e-f020-4f9c-9846-db3d91e06075')\"\n",
              "              title=\"Convert this dataframe to an interactive table.\"\n",
              "              style=\"display:none;\">\n",
              "        \n",
              "  <svg xmlns=\"http://www.w3.org/2000/svg\" height=\"24px\"viewBox=\"0 0 24 24\"\n",
              "       width=\"24px\">\n",
              "    <path d=\"M0 0h24v24H0V0z\" fill=\"none\"/>\n",
              "    <path d=\"M18.56 5.44l.94 2.06.94-2.06 2.06-.94-2.06-.94-.94-2.06-.94 2.06-2.06.94zm-11 1L8.5 8.5l.94-2.06 2.06-.94-2.06-.94L8.5 2.5l-.94 2.06-2.06.94zm10 10l.94 2.06.94-2.06 2.06-.94-2.06-.94-.94-2.06-.94 2.06-2.06.94z\"/><path d=\"M17.41 7.96l-1.37-1.37c-.4-.4-.92-.59-1.43-.59-.52 0-1.04.2-1.43.59L10.3 9.45l-7.72 7.72c-.78.78-.78 2.05 0 2.83L4 21.41c.39.39.9.59 1.41.59.51 0 1.02-.2 1.41-.59l7.78-7.78 2.81-2.81c.8-.78.8-2.07 0-2.86zM5.41 20L4 18.59l7.72-7.72 1.47 1.35L5.41 20z\"/>\n",
              "  </svg>\n",
              "      </button>\n",
              "      \n",
              "  <style>\n",
              "    .colab-df-container {\n",
              "      display:flex;\n",
              "      flex-wrap:wrap;\n",
              "      gap: 12px;\n",
              "    }\n",
              "\n",
              "    .colab-df-convert {\n",
              "      background-color: #E8F0FE;\n",
              "      border: none;\n",
              "      border-radius: 50%;\n",
              "      cursor: pointer;\n",
              "      display: none;\n",
              "      fill: #1967D2;\n",
              "      height: 32px;\n",
              "      padding: 0 0 0 0;\n",
              "      width: 32px;\n",
              "    }\n",
              "\n",
              "    .colab-df-convert:hover {\n",
              "      background-color: #E2EBFA;\n",
              "      box-shadow: 0px 1px 2px rgba(60, 64, 67, 0.3), 0px 1px 3px 1px rgba(60, 64, 67, 0.15);\n",
              "      fill: #174EA6;\n",
              "    }\n",
              "\n",
              "    [theme=dark] .colab-df-convert {\n",
              "      background-color: #3B4455;\n",
              "      fill: #D2E3FC;\n",
              "    }\n",
              "\n",
              "    [theme=dark] .colab-df-convert:hover {\n",
              "      background-color: #434B5C;\n",
              "      box-shadow: 0px 1px 3px 1px rgba(0, 0, 0, 0.15);\n",
              "      filter: drop-shadow(0px 1px 2px rgba(0, 0, 0, 0.3));\n",
              "      fill: #FFFFFF;\n",
              "    }\n",
              "  </style>\n",
              "\n",
              "      <script>\n",
              "        const buttonEl =\n",
              "          document.querySelector('#df-83135d9e-f020-4f9c-9846-db3d91e06075 button.colab-df-convert');\n",
              "        buttonEl.style.display =\n",
              "          google.colab.kernel.accessAllowed ? 'block' : 'none';\n",
              "\n",
              "        async function convertToInteractive(key) {\n",
              "          const element = document.querySelector('#df-83135d9e-f020-4f9c-9846-db3d91e06075');\n",
              "          const dataTable =\n",
              "            await google.colab.kernel.invokeFunction('convertToInteractive',\n",
              "                                                     [key], {});\n",
              "          if (!dataTable) return;\n",
              "\n",
              "          const docLinkHtml = 'Like what you see? Visit the ' +\n",
              "            '<a target=\"_blank\" href=https://colab.research.google.com/notebooks/data_table.ipynb>data table notebook</a>'\n",
              "            + ' to learn more about interactive tables.';\n",
              "          element.innerHTML = '';\n",
              "          dataTable['output_type'] = 'display_data';\n",
              "          await google.colab.output.renderOutput(dataTable, element);\n",
              "          const docLink = document.createElement('div');\n",
              "          docLink.innerHTML = docLinkHtml;\n",
              "          element.appendChild(docLink);\n",
              "        }\n",
              "      </script>\n",
              "    </div>\n",
              "  </div>\n",
              "  "
            ],
            "text/plain": [
              "                   u             g  ...   class      redshift\n",
              "count   99999.000000  99999.000000  ...   99999  99999.000000\n",
              "unique           NaN           NaN  ...       3           NaN\n",
              "top              NaN           NaN  ...  GALAXY           NaN\n",
              "freq             NaN           NaN  ...   59445           NaN\n",
              "mean       22.080679     20.631583  ...     NaN      0.576667\n",
              "std         2.251068      2.037384  ...     NaN      0.730709\n",
              "min        10.996230     10.498200  ...     NaN     -0.009971\n",
              "25%        20.352410     18.965240  ...     NaN      0.054522\n",
              "50%        22.179140     21.099930  ...     NaN      0.424176\n",
              "75%        23.687480     22.123775  ...     NaN      0.704172\n",
              "max        32.781390     31.602240  ...     NaN      7.011245\n",
              "\n",
              "[11 rows x 7 columns]"
            ]
          },
          "metadata": {},
          "execution_count": 13
        }
      ]
    },
    {
      "cell_type": "markdown",
      "source": [
        "Data is now ready for visualization"
      ],
      "metadata": {
        "id": "7f0IH4xvW_G6"
      }
    },
    {
      "cell_type": "markdown",
      "source": [
        "# Exploratory Visualization"
      ],
      "metadata": {
        "id": "Icdy3sujYYuS"
      }
    },
    {
      "cell_type": "markdown",
      "source": [
        "Creating histogram plots of all the numerical features"
      ],
      "metadata": {
        "id": "mBFjDs1nYbQB"
      }
    },
    {
      "cell_type": "code",
      "source": [
        "fig = plt.figure(figsize = (15,20))\n",
        "ax = fig.gca()\n",
        "df.hist(ax = ax);"
      ],
      "metadata": {
        "colab": {
          "base_uri": "https://localhost:8080/",
          "height": 1000
        },
        "id": "HgUowyN4YrrW",
        "outputId": "6c90ce40-0a80-4366-affb-ee06c8404581"
      },
      "execution_count": 18,
      "outputs": [
        {
          "output_type": "stream",
          "name": "stderr",
          "text": [
            "/usr/local/lib/python3.7/dist-packages/ipykernel_launcher.py:3: UserWarning: To output multiple subplots, the figure containing the passed axes is being cleared\n",
            "  This is separate from the ipykernel package so we can avoid doing imports until\n"
          ]
        },
        {
          "output_type": "display_data",
          "data": {
            "image/png": "[encoded data removed]",
            "text/plain": [
              "<Figure size 1080x1440 with 6 Axes>"
            ]
          },
          "metadata": {
            "needs_background": "light"
          }
        }
      ]
    },
    {
      "cell_type": "markdown",
      "source": [
        "All the frequency of light features roughly follow a standard bell curve distribution and and nothing seems out of the ordinary\n",
        "\n",
        "---\n",
        "Creating a histogram to further understand the redshift distibution"
      ],
      "metadata": {
        "id": "VB-gptVUZyhi"
      }
    },
    {
      "cell_type": "code",
      "source": [
        "df.boxplot(column = 'redshift', by = 'class', figsize = (15, 10))\n",
        "plt.title('Red Shift Boxplot based on Class of Object')\n",
        "plt.ylabel('Red Shift');"
      ],
      "metadata": {
        "colab": {
          "base_uri": "https://localhost:8080/",
          "height": 713
        },
        "id": "SuxadfpsbH_G",
        "outputId": "c8accd23-d708-4b2a-e815-7c15457f9f41"
      },
      "execution_count": 31,
      "outputs": [
        {
          "output_type": "stream",
          "name": "stderr",
          "text": [
            "/usr/local/lib/python3.7/dist-packages/numpy/core/_asarray.py:83: VisibleDeprecationWarning: Creating an ndarray from ragged nested sequences (which is a list-or-tuple of lists-or-tuples-or ndarrays with different lengths or shapes) is deprecated. If you meant to do this, you must specify 'dtype=object' when creating the ndarray\n",
            "  return array(a, dtype, copy=False, order=order)\n"
          ]
        },
        {
          "output_type": "display_data",
          "data": {
            "image/png": "[encoded data removed]",
            "text/plain": [
              "<Figure size 1080x720 with 1 Axes>"
            ]
          },
          "metadata": {
            "needs_background": "light"
          }
        }
      ]
    },
    {
      "cell_type": "markdown",
      "source": [
        "The Red shift histogram plot indicates the a vast majotiry of observations have a low red shift while there are some outliers. The box plot further illumintes the distribution and makes sense given that red shift is an indicator of the rate of movement away from the observer and quasars and galaxies tend to have high rates of movement relative to earth than stars (majority of observable stars are in our galaxy and are generally rotating in a similar fashion to earth around the galactic center).   "
      ],
      "metadata": {
        "id": "3_CbpgrxbnLq"
      }
    },
    {
      "cell_type": "markdown",
      "source": [
        "Creating a histogram of the target class"
      ],
      "metadata": {
        "id": "zyHsju79apMl"
      }
    },
    {
      "cell_type": "code",
      "source": [
        "df['class'].hist();"
      ],
      "metadata": {
        "colab": {
          "base_uri": "https://localhost:8080/",
          "height": 265
        },
        "id": "5U00uIanZrX1",
        "outputId": "9b6f54ea-d72b-40a8-8711-bc649f78327d"
      },
      "execution_count": 20,
      "outputs": [
        {
          "output_type": "display_data",
          "data": {
            "image/png": "[encoded data removed]",
            "text/plain": [
              "<Figure size 432x288 with 1 Axes>"
            ]
          },
          "metadata": {
            "needs_background": "light"
          }
        }
      ]
    },
    {
      "cell_type": "markdown",
      "source": [
        "As determined earlier, there is not even balance among the classes\n",
        "\n",
        "* 58% - Galaxies\n",
        "* 22% - Stars\n",
        "* 20% - Quasar\n"
      ],
      "metadata": {
        "id": "fGUHxC3tZkBV"
      }
    },
    {
      "cell_type": "markdown",
      "source": [
        "Creating a heatmap to determine correlation between classes"
      ],
      "metadata": {
        "id": "TTluHvyHd1r9"
      }
    },
    {
      "cell_type": "code",
      "source": [
        "corr = df.corr()\n",
        "plt.subplots(figsize = (15, 10))\n",
        "sns.heatmap(corr, cmap = 'Reds', annot = True);"
      ],
      "metadata": {
        "colab": {
          "base_uri": "https://localhost:8080/",
          "height": 596
        },
        "id": "_D8iarkDd52g",
        "outputId": "92c77b3d-5034-4606-b675-7d04334cbc60"
      },
      "execution_count": 32,
      "outputs": [
        {
          "output_type": "display_data",
          "data": {
            "image/png": "[encoded data removed]",
            "text/plain": [
              "<Figure size 1080x720 with 2 Axes>"
            ]
          },
          "metadata": {
            "needs_background": "light"
          }
        }
      ]
    },
    {
      "cell_type": "markdown",
      "source": [
        "There are numerous correlations within this dataset\n",
        "\n",
        "* Excluding redshift, the features of this dataset are adjacent frequency ranges on the EM spectrum. Thus the ranges closest together should have and, according to the heatmap, do have strong postive correlations (as high as 0.97). As the features are further away from each other on EM spectrum, their positive correlation drops (see 'u' [Ultraviolet] and 'z' [Infrared light] - 0.55)  \n",
        "* Blueshift(not a feature of this dataset) and redshift are the \"compression\" and 'elongation' of light waves as an object moves toward and away from an observer. Redshift occuring as an object moves away from the observer which \"elongates\" the wave length and since red is a longer wavelength than blue, it causes a shift toward the red wavelengths. With that in mind it would make sense that red shift would have higher correlation with those wavelengths closer to red and infrared ('redshift', 'i', 'z') than green and ultraviolet ('g' and 'u') "
      ],
      "metadata": {
        "id": "_11ireBNirLj"
      }
    }
  ]
}